{
 "cells": [
  {
   "cell_type": "markdown",
   "id": "a4178f43",
   "metadata": {},
   "source": [
    "仮想環境に入るとき：conda activate (healthcare-env:NAGASE)\n",
    "最新状態をローカルに保存するとき：git pull origin main\n",
    "pipされたモジュールをインストールするとき：pip install -r requirements.txt\n",
    "pipしたモジュールを追加する：pip freeze > requirements.txt\n",
    "変えたら(変えたの全て)：git add .\n",
    "変えたときのメッセージ：git commit -m \"message\"\n",
    "更新内容をGITに反映させるとき：git push origin main\n",
    "仮想環境を出るとき：conda deactivate"
   ]
  },
  {
   "cell_type": "code",
   "execution_count": 1,
   "id": "ded397d1",
   "metadata": {},
   "outputs": [
    {
     "name": "stdout",
     "output_type": "stream",
     "text": [
      "Hello\n"
     ]
    }
   ],
   "source": [
    "print('Hello')"
   ]
  },
  {
   "cell_type": "code",
   "execution_count": null,
   "id": "a45aa33d",
   "metadata": {},
   "outputs": [],
   "source": []
  }
 ],
 "metadata": {
  "kernelspec": {
   "display_name": "healthcare-env",
   "language": "python",
   "name": "python3"
  },
  "language_info": {
   "codemirror_mode": {
    "name": "ipython",
    "version": 3
   },
   "file_extension": ".py",
   "mimetype": "text/x-python",
   "name": "python",
   "nbconvert_exporter": "python",
   "pygments_lexer": "ipython3",
   "version": "3.11.11"
  }
 },
 "nbformat": 4,
 "nbformat_minor": 5
}
