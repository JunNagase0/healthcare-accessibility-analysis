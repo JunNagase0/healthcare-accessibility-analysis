{
 "cells": [
  {
   "cell_type": "markdown",
   "id": "2a5aaa5d",
   "metadata": {},
   "source": [
    "# 滋賀県の例に沿って同じようなことをしてみる"
   ]
  },
  {
   "cell_type": "markdown",
   "id": "15cc6874",
   "metadata": {},
   "source": [
    "## 福岡県でやってみる"
   ]
  },
  {
   "cell_type": "code",
   "execution_count": null,
   "id": "0f9995e0",
   "metadata": {},
   "outputs": [],
   "source": []
  }
 ],
 "metadata": {
  "kernelspec": {
   "display_name": ".venv",
   "language": "python",
   "name": "python3"
  },
  "language_info": {
   "name": "python",
   "version": "3.11.2"
  }
 },
 "nbformat": 4,
 "nbformat_minor": 5
}
