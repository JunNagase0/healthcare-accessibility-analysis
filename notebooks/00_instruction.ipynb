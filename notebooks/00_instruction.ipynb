{
 "cells": [
  {
   "cell_type": "markdown",
   "id": "45909099-7c9a-4869-870b-e8bc9648596b",
   "metadata": {},
   "source": [
    "## 石川の環境(6/11時点)\n",
    "\n",
    "- Python バージョン: 3.11.13\n",
    "- パッケージ管理: conda (conda-forge)"
   ]
  },
  {
   "cell_type": "markdown",
   "id": "a4178f43",
   "metadata": {},
   "source": [
    "* 仮想環境に入るとき：conda create -n ox-env -f requirements.yml ~~(healthcare-env:NAGASE)~~\n",
    "* 最新状態をローカルに保存するとき：git pull origin main\n",
    "* ~~pipされたモジュールをインストールするとき：pip install -r requirements.txt~~\n",
    "* ~~pipしたモジュールを追加する：pip freeze > requirements.txt~~\n",
    "* 変えたら(変えたの全て)：git add .\n",
    "* 変えたときのメッセージ：git commit -m \"message\"\n",
    "* 更新内容をGITに反映させるとき：git push origin main\n",
    "* 仮想環境を出るとき：conda deactivate"
   ]
  }
 ],
 "metadata": {
  "kernelspec": {
   "display_name": "Python 3 (ipykernel)",
   "language": "python",
   "name": "python3"
  },
  "language_info": {
   "codemirror_mode": {
    "name": "ipython",
    "version": 3
   },
   "file_extension": ".py",
   "mimetype": "text/x-python",
   "name": "python",
   "nbconvert_exporter": "python",
   "pygments_lexer": "ipython3",
   "version": "3.12.1"
  }
 },
 "nbformat": 4,
 "nbformat_minor": 5
}
