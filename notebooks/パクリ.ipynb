{
 "cells": [
  {
   "cell_type": "markdown",
   "id": "8a025268-703c-4053-967a-fb5bac264842",
   "metadata": {},
   "source": [
    "# 地理情報システム（GIS）による医療アクセス分析:  \n",
    "# 福岡県のケーススタディ\n",
    "## 分析対象\n",
    "- 三次救急医療へのアクセシビリティ\n",
    "- 外来医科医療へのアクセシビリティ\n",
    "\n",
    "## 先行の分析での定義\n",
    "![医療アクセシビリティの定義](医療アクセシビリティの定義.png)\n",
    "![医療アクセシビリティ評価のための指標](医療アクセシビリティ評価のための指標.png)"
   ]
  },
  {
   "cell_type": "code",
   "execution_count": null,
   "id": "085ccd6b-adc5-4d0b-a94a-029f5c0ae9bf",
   "metadata": {},
   "outputs": [],
   "source": []
  }
 ],
 "metadata": {
  "kernelspec": {
   "display_name": "Python (ox-env)",
   "language": "python",
   "name": "ox-env"
  },
  "language_info": {
   "codemirror_mode": {
    "name": "ipython",
    "version": 3
   },
   "file_extension": ".py",
   "mimetype": "text/x-python",
   "name": "python",
   "nbconvert_exporter": "python",
   "pygments_lexer": "ipython3",
   "version": "3.11.13"
  }
 },
 "nbformat": 4,
 "nbformat_minor": 5
}
